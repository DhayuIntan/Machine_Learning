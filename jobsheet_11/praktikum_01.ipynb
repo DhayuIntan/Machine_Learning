{
  "nbformat": 4,
  "nbformat_minor": 0,
  "metadata": {
    "colab": {
      "provenance": [],
      "gpuType": "T4",
      "authorship_tag": "ABX9TyOAUkBI/T34atXrMo//7jmW",
      "include_colab_link": true
    },
    "kernelspec": {
      "name": "python3",
      "display_name": "Python 3"
    },
    "language_info": {
      "name": "python"
    },
    "accelerator": "GPU"
  },
  "cells": [
    {
      "cell_type": "markdown",
      "metadata": {
        "id": "view-in-github",
        "colab_type": "text"
      },
      "source": [
        "<a href=\"https://colab.research.google.com/github/DhayuIntan/Machine_Learning/blob/main/jobsheet_11/praktikum_01.ipynb\" target=\"_parent\"><img src=\"https://colab.research.google.com/assets/colab-badge.svg\" alt=\"Open In Colab\"/></a>"
      ]
    },
    {
      "cell_type": "markdown",
      "source": [
        "# Praktikum 1\n",
        "## Klasifikasi 🐱 dan 🐶"
      ],
      "metadata": {
        "id": "JE5DWbYBIzK-"
      }
    },
    {
      "cell_type": "markdown",
      "source": [
        "### **Langkah 1 - Import Library**"
      ],
      "metadata": {
        "id": "k82scVYDJD60"
      }
    },
    {
      "cell_type": "code",
      "execution_count": 1,
      "metadata": {
        "id": "PDae8WnPIyZn"
      },
      "outputs": [],
      "source": [
        "import tensorflow as tf\n",
        "from keras.preprocessing.image import ImageDataGenerator"
      ]
    },
    {
      "cell_type": "code",
      "source": [
        "from google.colab import drive\n",
        "drive.mount('/content/drive')"
      ],
      "metadata": {
        "colab": {
          "base_uri": "https://localhost:8080/"
        },
        "id": "ZACsraCrbOSR",
        "outputId": "4984ac2b-b7d1-49cd-a0d0-7a96cbecc40d"
      },
      "execution_count": 2,
      "outputs": [
        {
          "output_type": "stream",
          "name": "stdout",
          "text": [
            "Mounted at /content/drive\n"
          ]
        }
      ]
    },
    {
      "cell_type": "markdown",
      "source": [
        "### **Langkah 2 - Pra Pengolahan Data**\n",
        "Pada tahap ini kita akan sedikit melakukan manipulasi pada citra yang digunakan. Manipulasi yang dilakukan diantaranya adalah normalisasi nilai piksel, koreksi kemiringan, pembesaran (zoom), dan flip."
      ],
      "metadata": {
        "id": "tmNL3seZJMbF"
      }
    },
    {
      "cell_type": "markdown",
      "source": [
        "#### **Langkah 2.1. Pra Pengolahan Data Training**"
      ],
      "metadata": {
        "id": "KzuKYza4JR-D"
      }
    },
    {
      "cell_type": "code",
      "source": [
        "train_datagen = ImageDataGenerator(rescale = 1./255,\n",
        "                                   shear_range = 0.2,\n",
        "                                   zoom_range = 0.2,\n",
        "                                   horizontal_flip = True)\n",
        "training_set = train_datagen.flow_from_directory('/content/drive/MyDrive/dataset/training_set',\n",
        "                                                 target_size = (64, 64),\n",
        "                                                 batch_size = 32,\n",
        "                                                 class_mode = 'binary')"
      ],
      "metadata": {
        "colab": {
          "base_uri": "https://localhost:8080/"
        },
        "id": "0ypGUYg_JXUE",
        "outputId": "0e22a9ac-6564-4f20-eed7-dbff3485d1a1"
      },
      "execution_count": 3,
      "outputs": [
        {
          "output_type": "stream",
          "name": "stdout",
          "text": [
            "Found 8000 images belonging to 2 classes.\n"
          ]
        }
      ]
    },
    {
      "cell_type": "markdown",
      "source": [
        "#### **Langkah 2.2. Pra Pengolahan Data Testing**"
      ],
      "metadata": {
        "id": "G23JYTRHbn1h"
      }
    },
    {
      "cell_type": "code",
      "source": [
        "test_datagen = ImageDataGenerator(rescale = 1./255)\n",
        "test_set = test_datagen.flow_from_directory('/content/drive/MyDrive/dataset/test_set',\n",
        "                                            target_size = (64, 64),\n",
        "                                            batch_size = 32,\n",
        "                                            class_mode = 'binary')"
      ],
      "metadata": {
        "colab": {
          "base_uri": "https://localhost:8080/"
        },
        "id": "FXiFGB2Gbpq0",
        "outputId": "9d0a5465-1bb6-4620-d1a5-ba42cab9ae68"
      },
      "execution_count": 4,
      "outputs": [
        {
          "output_type": "stream",
          "name": "stdout",
          "text": [
            "Found 2000 images belonging to 2 classes.\n"
          ]
        }
      ]
    },
    {
      "cell_type": "markdown",
      "source": [
        "### **Langkah 3 - Pembuatan Model CNN**"
      ],
      "metadata": {
        "id": "A5-AlaOsbyyk"
      }
    },
    {
      "cell_type": "markdown",
      "source": [
        "#### **Langkah 3.1.  - Inisiasi Model CNN**"
      ],
      "metadata": {
        "id": "dfheYiCWb3Jx"
      }
    },
    {
      "cell_type": "code",
      "source": [
        "cnn = tf.keras.models.Sequential()"
      ],
      "metadata": {
        "id": "R82WLbqkb0n_"
      },
      "execution_count": 5,
      "outputs": []
    },
    {
      "cell_type": "markdown",
      "source": [
        "#### **Langkah 3.2. - Pembuatan Layer Konvolusi 1**"
      ],
      "metadata": {
        "id": "J7VMOhJOb_z7"
      }
    },
    {
      "cell_type": "code",
      "source": [
        "cnn.add(tf.keras.layers.Conv2D(filters=32, kernel_size=3, activation='relu', input_shape=[64, 64, 3]))"
      ],
      "metadata": {
        "id": "wNJHgMMdcCpV"
      },
      "execution_count": 6,
      "outputs": []
    },
    {
      "cell_type": "markdown",
      "source": [
        "#### **Langkah 3.3 - Pembuatan Layer Pooling 1**"
      ],
      "metadata": {
        "id": "Pf9JhGidcGUP"
      }
    },
    {
      "cell_type": "code",
      "source": [
        "cnn.add(tf.keras.layers.MaxPool2D(pool_size=2, strides=2))"
      ],
      "metadata": {
        "id": "Dm1IXT3zcJlM"
      },
      "execution_count": 7,
      "outputs": []
    },
    {
      "cell_type": "markdown",
      "source": [
        "#### **Langkah 3.4 - Pembuatan Layer Konvolusi 2 dan Pooling 2**"
      ],
      "metadata": {
        "id": "F-nGUzOBcME6"
      }
    },
    {
      "cell_type": "code",
      "source": [
        "cnn.add(tf.keras.layers.Conv2D(filters=32, kernel_size=3, activation='relu'))\n",
        "cnn.add(tf.keras.layers.MaxPool2D(pool_size=2, strides=2))"
      ],
      "metadata": {
        "id": "OcWEqDfOcXbg"
      },
      "execution_count": 8,
      "outputs": []
    },
    {
      "cell_type": "markdown",
      "source": [
        "#### **Langkah 3.5 - Flattening**"
      ],
      "metadata": {
        "id": "Fr3b4jfvcapM"
      }
    },
    {
      "cell_type": "code",
      "source": [
        "cnn.add(tf.keras.layers.Flatten())"
      ],
      "metadata": {
        "id": "33rW0qM3ccUL"
      },
      "execution_count": 9,
      "outputs": []
    },
    {
      "cell_type": "markdown",
      "source": [
        "#### **Langkah 3.6 - Fully Connected Layer 1 (Input)**"
      ],
      "metadata": {
        "id": "fOc6jsBScf9P"
      }
    },
    {
      "cell_type": "code",
      "source": [
        "cnn.add(tf.keras.layers.Dense(units=128, activation='relu'))"
      ],
      "metadata": {
        "id": "bXL94HmscnKg"
      },
      "execution_count": 10,
      "outputs": []
    },
    {
      "cell_type": "markdown",
      "source": [
        "#### **Langkah 3.7 - Fully Connected Layer 2 (Output)**"
      ],
      "metadata": {
        "id": "d6cxPXOTcrib"
      }
    },
    {
      "cell_type": "code",
      "source": [
        "cnn.add(tf.keras.layers.Dense(units=1, activation='sigmoid'))"
      ],
      "metadata": {
        "id": "tmWJ_rqectNc"
      },
      "execution_count": 11,
      "outputs": []
    },
    {
      "cell_type": "markdown",
      "source": [
        "#### **Langkah 3.8 - Compile Model CNN**"
      ],
      "metadata": {
        "id": "7_AfhmA7cvlK"
      }
    },
    {
      "cell_type": "code",
      "source": [
        "cnn.compile(optimizer = 'adam', loss = 'binary_crossentropy', metrics = ['accuracy'])"
      ],
      "metadata": {
        "id": "E98VSgnmc0FB"
      },
      "execution_count": 12,
      "outputs": []
    },
    {
      "cell_type": "markdown",
      "source": [
        "### **Langkah 4 - Fit CNN**"
      ],
      "metadata": {
        "id": "GsSxbeW9c2MO"
      }
    },
    {
      "cell_type": "code",
      "source": [
        "cnn.fit(x = training_set, validation_data = test_set, epochs = 25)"
      ],
      "metadata": {
        "colab": {
          "base_uri": "https://localhost:8080/"
        },
        "id": "bZ4mRcUhc7Rd",
        "outputId": "bba927e1-40f1-49af-9656-ebe9c1e84de9"
      },
      "execution_count": 13,
      "outputs": [
        {
          "output_type": "stream",
          "name": "stdout",
          "text": [
            "Epoch 1/25\n",
            "250/250 [==============================] - 1117s 4s/step - loss: 0.6795 - accuracy: 0.5673 - val_loss: 0.6298 - val_accuracy: 0.6545\n",
            "Epoch 2/25\n",
            "250/250 [==============================] - 35s 138ms/step - loss: 0.6214 - accuracy: 0.6578 - val_loss: 0.5754 - val_accuracy: 0.7150\n",
            "Epoch 3/25\n",
            "250/250 [==============================] - 35s 140ms/step - loss: 0.5713 - accuracy: 0.7031 - val_loss: 0.5467 - val_accuracy: 0.7355\n",
            "Epoch 4/25\n",
            "250/250 [==============================] - 35s 138ms/step - loss: 0.5318 - accuracy: 0.7334 - val_loss: 0.6191 - val_accuracy: 0.6835\n",
            "Epoch 5/25\n",
            "250/250 [==============================] - 34s 136ms/step - loss: 0.5229 - accuracy: 0.7359 - val_loss: 0.5103 - val_accuracy: 0.7540\n",
            "Epoch 6/25\n",
            "250/250 [==============================] - 35s 141ms/step - loss: 0.5028 - accuracy: 0.7560 - val_loss: 0.4934 - val_accuracy: 0.7665\n",
            "Epoch 7/25\n",
            "250/250 [==============================] - 34s 137ms/step - loss: 0.4794 - accuracy: 0.7669 - val_loss: 0.4780 - val_accuracy: 0.7705\n",
            "Epoch 8/25\n",
            "250/250 [==============================] - 35s 139ms/step - loss: 0.4645 - accuracy: 0.7765 - val_loss: 0.5003 - val_accuracy: 0.7690\n",
            "Epoch 9/25\n",
            "250/250 [==============================] - 34s 136ms/step - loss: 0.4505 - accuracy: 0.7876 - val_loss: 0.5853 - val_accuracy: 0.7335\n",
            "Epoch 10/25\n",
            "250/250 [==============================] - 35s 141ms/step - loss: 0.4381 - accuracy: 0.7971 - val_loss: 0.5528 - val_accuracy: 0.7435\n",
            "Epoch 11/25\n",
            "250/250 [==============================] - 34s 136ms/step - loss: 0.4195 - accuracy: 0.8090 - val_loss: 0.4655 - val_accuracy: 0.7875\n",
            "Epoch 12/25\n",
            "250/250 [==============================] - 35s 139ms/step - loss: 0.4134 - accuracy: 0.8104 - val_loss: 0.4769 - val_accuracy: 0.7845\n",
            "Epoch 13/25\n",
            "250/250 [==============================] - 34s 137ms/step - loss: 0.3896 - accuracy: 0.8198 - val_loss: 0.4992 - val_accuracy: 0.7795\n",
            "Epoch 14/25\n",
            "250/250 [==============================] - 35s 139ms/step - loss: 0.3897 - accuracy: 0.8195 - val_loss: 0.5082 - val_accuracy: 0.7840\n",
            "Epoch 15/25\n",
            "250/250 [==============================] - 34s 138ms/step - loss: 0.3653 - accuracy: 0.8328 - val_loss: 0.5575 - val_accuracy: 0.7455\n",
            "Epoch 16/25\n",
            "250/250 [==============================] - 34s 137ms/step - loss: 0.3519 - accuracy: 0.8445 - val_loss: 0.4898 - val_accuracy: 0.7980\n",
            "Epoch 17/25\n",
            "250/250 [==============================] - 34s 138ms/step - loss: 0.3496 - accuracy: 0.8438 - val_loss: 0.5451 - val_accuracy: 0.7690\n",
            "Epoch 18/25\n",
            "250/250 [==============================] - 34s 135ms/step - loss: 0.3296 - accuracy: 0.8533 - val_loss: 0.4622 - val_accuracy: 0.7990\n",
            "Epoch 19/25\n",
            "250/250 [==============================] - 35s 142ms/step - loss: 0.3248 - accuracy: 0.8595 - val_loss: 0.4670 - val_accuracy: 0.8125\n",
            "Epoch 20/25\n",
            "250/250 [==============================] - 34s 136ms/step - loss: 0.3118 - accuracy: 0.8666 - val_loss: 0.5029 - val_accuracy: 0.8015\n",
            "Epoch 21/25\n",
            "250/250 [==============================] - 34s 138ms/step - loss: 0.2931 - accuracy: 0.8721 - val_loss: 0.5262 - val_accuracy: 0.7980\n",
            "Epoch 22/25\n",
            "250/250 [==============================] - 35s 138ms/step - loss: 0.2885 - accuracy: 0.8726 - val_loss: 0.5028 - val_accuracy: 0.7995\n",
            "Epoch 23/25\n",
            "250/250 [==============================] - 34s 136ms/step - loss: 0.2785 - accuracy: 0.8809 - val_loss: 0.5816 - val_accuracy: 0.7875\n",
            "Epoch 24/25\n",
            "250/250 [==============================] - 35s 139ms/step - loss: 0.2650 - accuracy: 0.8882 - val_loss: 0.5781 - val_accuracy: 0.7810\n",
            "Epoch 25/25\n",
            "250/250 [==============================] - 34s 136ms/step - loss: 0.2559 - accuracy: 0.8928 - val_loss: 0.4989 - val_accuracy: 0.8065\n"
          ]
        },
        {
          "output_type": "execute_result",
          "data": {
            "text/plain": [
              "<keras.src.callbacks.History at 0x7bce2299e7d0>"
            ]
          },
          "metadata": {},
          "execution_count": 13
        }
      ]
    },
    {
      "cell_type": "markdown",
      "source": [
        "# Langkah 5 - Prediksi dengan 1 Citra"
      ],
      "metadata": {
        "id": "xdWBA8C3c-yN"
      }
    },
    {
      "cell_type": "code",
      "source": [
        "import numpy as np\n",
        "from keras.preprocessing import image\n",
        "test_image = image.load_img('/content/drive/MyDrive/dataset/single_prediction/cat_or_dog_1.jpg', target_size = (64, 64))\n",
        "test_image = image.img_to_array(test_image)\n",
        "test_image = np.expand_dims(test_image, axis = 0)\n",
        "result = cnn.predict(test_image)\n",
        "training_set.class_indices\n",
        "if result[0][0] == 1:\n",
        "  prediction = 'dog'\n",
        "else:\n",
        "  prediction = 'cat'\n",
        "print(prediction)"
      ],
      "metadata": {
        "colab": {
          "base_uri": "https://localhost:8080/"
        },
        "id": "vGt-g8rwdCw7",
        "outputId": "d17bd980-e3a5-4dd8-fd76-6a204d7625ef"
      },
      "execution_count": 16,
      "outputs": [
        {
          "output_type": "stream",
          "name": "stdout",
          "text": [
            "1/1 [==============================] - 0s 37ms/step\n",
            "dog\n"
          ]
        }
      ]
    }
  ]
}