{
 "cells": [
  {
   "cell_type": "markdown",
   "metadata": {},
   "source": [
    "## Tugas 1\n",
    "Terdapat dataset mushroom. Berdasarkan dataset yang tersebut, bandingkan peforma antara algoritma Decision Tree dan RandomForest. Gunakan tunning hyperparameter untuk mendapatkan parameter dan akurasi yang terbaik."
   ]
  },
  {
   "cell_type": "markdown",
   "metadata": {},
   "source": [
    "### Import Library"
   ]
  },
  {
   "cell_type": "code",
   "execution_count": 11,
   "metadata": {},
   "outputs": [],
   "source": [
    "import numpy as np\n",
    "import pandas as pd\n",
    "from sklearn.ensemble import AdaBoostClassifier\n",
    "from sklearn.tree import DecisionTreeClassifier # import DT\n",
    "from sklearn.ensemble import RandomForestClassifier # import RandomForest\n",
    "from sklearn.model_selection import train_test_split\n",
    "from sklearn.metrics import accuracy_score, classification_report"
   ]
  },
  {
   "cell_type": "markdown",
   "metadata": {},
   "source": [
    "### Persiapan Data"
   ]
  },
  {
   "cell_type": "code",
   "execution_count": 3,
   "metadata": {},
   "outputs": [
    {
     "data": {
      "text/html": [
       "<div>\n",
       "<style scoped>\n",
       "    .dataframe tbody tr th:only-of-type {\n",
       "        vertical-align: middle;\n",
       "    }\n",
       "\n",
       "    .dataframe tbody tr th {\n",
       "        vertical-align: top;\n",
       "    }\n",
       "\n",
       "    .dataframe thead th {\n",
       "        text-align: right;\n",
       "    }\n",
       "</style>\n",
       "<table border=\"1\" class=\"dataframe\">\n",
       "  <thead>\n",
       "    <tr style=\"text-align: right;\">\n",
       "      <th></th>\n",
       "      <th>class</th>\n",
       "      <th>cap-shape</th>\n",
       "      <th>cap-surface</th>\n",
       "      <th>cap-color</th>\n",
       "      <th>bruises</th>\n",
       "      <th>odor</th>\n",
       "      <th>gill-attachment</th>\n",
       "      <th>gill-spacing</th>\n",
       "      <th>gill-size</th>\n",
       "      <th>gill-color</th>\n",
       "      <th>...</th>\n",
       "      <th>stalk-surface-below-ring</th>\n",
       "      <th>stalk-color-above-ring</th>\n",
       "      <th>stalk-color-below-ring</th>\n",
       "      <th>veil-type</th>\n",
       "      <th>veil-color</th>\n",
       "      <th>ring-number</th>\n",
       "      <th>ring-type</th>\n",
       "      <th>spore-print-color</th>\n",
       "      <th>population</th>\n",
       "      <th>habitat</th>\n",
       "    </tr>\n",
       "  </thead>\n",
       "  <tbody>\n",
       "    <tr>\n",
       "      <th>0</th>\n",
       "      <td>p</td>\n",
       "      <td>x</td>\n",
       "      <td>s</td>\n",
       "      <td>n</td>\n",
       "      <td>t</td>\n",
       "      <td>p</td>\n",
       "      <td>f</td>\n",
       "      <td>c</td>\n",
       "      <td>n</td>\n",
       "      <td>k</td>\n",
       "      <td>...</td>\n",
       "      <td>s</td>\n",
       "      <td>w</td>\n",
       "      <td>w</td>\n",
       "      <td>p</td>\n",
       "      <td>w</td>\n",
       "      <td>o</td>\n",
       "      <td>p</td>\n",
       "      <td>k</td>\n",
       "      <td>s</td>\n",
       "      <td>u</td>\n",
       "    </tr>\n",
       "    <tr>\n",
       "      <th>1</th>\n",
       "      <td>e</td>\n",
       "      <td>x</td>\n",
       "      <td>s</td>\n",
       "      <td>y</td>\n",
       "      <td>t</td>\n",
       "      <td>a</td>\n",
       "      <td>f</td>\n",
       "      <td>c</td>\n",
       "      <td>b</td>\n",
       "      <td>k</td>\n",
       "      <td>...</td>\n",
       "      <td>s</td>\n",
       "      <td>w</td>\n",
       "      <td>w</td>\n",
       "      <td>p</td>\n",
       "      <td>w</td>\n",
       "      <td>o</td>\n",
       "      <td>p</td>\n",
       "      <td>n</td>\n",
       "      <td>n</td>\n",
       "      <td>g</td>\n",
       "    </tr>\n",
       "    <tr>\n",
       "      <th>2</th>\n",
       "      <td>e</td>\n",
       "      <td>b</td>\n",
       "      <td>s</td>\n",
       "      <td>w</td>\n",
       "      <td>t</td>\n",
       "      <td>l</td>\n",
       "      <td>f</td>\n",
       "      <td>c</td>\n",
       "      <td>b</td>\n",
       "      <td>n</td>\n",
       "      <td>...</td>\n",
       "      <td>s</td>\n",
       "      <td>w</td>\n",
       "      <td>w</td>\n",
       "      <td>p</td>\n",
       "      <td>w</td>\n",
       "      <td>o</td>\n",
       "      <td>p</td>\n",
       "      <td>n</td>\n",
       "      <td>n</td>\n",
       "      <td>m</td>\n",
       "    </tr>\n",
       "    <tr>\n",
       "      <th>3</th>\n",
       "      <td>p</td>\n",
       "      <td>x</td>\n",
       "      <td>y</td>\n",
       "      <td>w</td>\n",
       "      <td>t</td>\n",
       "      <td>p</td>\n",
       "      <td>f</td>\n",
       "      <td>c</td>\n",
       "      <td>n</td>\n",
       "      <td>n</td>\n",
       "      <td>...</td>\n",
       "      <td>s</td>\n",
       "      <td>w</td>\n",
       "      <td>w</td>\n",
       "      <td>p</td>\n",
       "      <td>w</td>\n",
       "      <td>o</td>\n",
       "      <td>p</td>\n",
       "      <td>k</td>\n",
       "      <td>s</td>\n",
       "      <td>u</td>\n",
       "    </tr>\n",
       "    <tr>\n",
       "      <th>4</th>\n",
       "      <td>e</td>\n",
       "      <td>x</td>\n",
       "      <td>s</td>\n",
       "      <td>g</td>\n",
       "      <td>f</td>\n",
       "      <td>n</td>\n",
       "      <td>f</td>\n",
       "      <td>w</td>\n",
       "      <td>b</td>\n",
       "      <td>k</td>\n",
       "      <td>...</td>\n",
       "      <td>s</td>\n",
       "      <td>w</td>\n",
       "      <td>w</td>\n",
       "      <td>p</td>\n",
       "      <td>w</td>\n",
       "      <td>o</td>\n",
       "      <td>e</td>\n",
       "      <td>n</td>\n",
       "      <td>a</td>\n",
       "      <td>g</td>\n",
       "    </tr>\n",
       "  </tbody>\n",
       "</table>\n",
       "<p>5 rows × 23 columns</p>\n",
       "</div>"
      ],
      "text/plain": [
       "  class cap-shape cap-surface cap-color bruises odor gill-attachment  \\\n",
       "0     p         x           s         n       t    p               f   \n",
       "1     e         x           s         y       t    a               f   \n",
       "2     e         b           s         w       t    l               f   \n",
       "3     p         x           y         w       t    p               f   \n",
       "4     e         x           s         g       f    n               f   \n",
       "\n",
       "  gill-spacing gill-size gill-color  ... stalk-surface-below-ring  \\\n",
       "0            c         n          k  ...                        s   \n",
       "1            c         b          k  ...                        s   \n",
       "2            c         b          n  ...                        s   \n",
       "3            c         n          n  ...                        s   \n",
       "4            w         b          k  ...                        s   \n",
       "\n",
       "  stalk-color-above-ring stalk-color-below-ring veil-type veil-color  \\\n",
       "0                      w                      w         p          w   \n",
       "1                      w                      w         p          w   \n",
       "2                      w                      w         p          w   \n",
       "3                      w                      w         p          w   \n",
       "4                      w                      w         p          w   \n",
       "\n",
       "  ring-number ring-type spore-print-color population habitat  \n",
       "0           o         p                 k          s       u  \n",
       "1           o         p                 n          n       g  \n",
       "2           o         p                 n          n       m  \n",
       "3           o         p                 k          s       u  \n",
       "4           o         e                 n          a       g  \n",
       "\n",
       "[5 rows x 23 columns]"
      ]
     },
     "execution_count": 3,
     "metadata": {},
     "output_type": "execute_result"
    }
   ],
   "source": [
    "# Load data\n",
    "df = pd.read_csv('../data/mushrooms.csv')\n",
    "\n",
    "df.head()"
   ]
  },
  {
   "cell_type": "code",
   "execution_count": 4,
   "metadata": {},
   "outputs": [
    {
     "data": {
      "text/plain": [
       "class                       0\n",
       "cap-shape                   0\n",
       "cap-surface                 0\n",
       "cap-color                   0\n",
       "bruises                     0\n",
       "odor                        0\n",
       "gill-attachment             0\n",
       "gill-spacing                0\n",
       "gill-size                   0\n",
       "gill-color                  0\n",
       "stalk-shape                 0\n",
       "stalk-root                  0\n",
       "stalk-surface-above-ring    0\n",
       "stalk-surface-below-ring    0\n",
       "stalk-color-above-ring      0\n",
       "stalk-color-below-ring      0\n",
       "veil-type                   0\n",
       "veil-color                  0\n",
       "ring-number                 0\n",
       "ring-type                   0\n",
       "spore-print-color           0\n",
       "population                  0\n",
       "habitat                     0\n",
       "dtype: int64"
      ]
     },
     "execution_count": 4,
     "metadata": {},
     "output_type": "execute_result"
    }
   ],
   "source": [
    "# Cek kolom null\n",
    "df.isnull().sum()"
   ]
  },
  {
   "cell_type": "markdown",
   "metadata": {},
   "source": [
    "### <b> Algoritma Decision Tree"
   ]
  },
  {
   "cell_type": "code",
   "execution_count": 5,
   "metadata": {},
   "outputs": [
    {
     "name": "stdout",
     "output_type": "stream",
     "text": [
      "Test set accuracy: 1.00\n",
      "Classification Report:\n",
      "              precision    recall  f1-score   support\n",
      "\n",
      "           e       1.00      1.00      1.00       843\n",
      "           p       1.00      1.00      1.00       782\n",
      "\n",
      "    accuracy                           1.00      1625\n",
      "   macro avg       1.00      1.00      1.00      1625\n",
      "weighted avg       1.00      1.00      1.00      1625\n",
      "\n"
     ]
    }
   ],
   "source": [
    "# Pra-pemrosesan Data\n",
    "X = df.drop('class', axis=1)  # Fitur\n",
    "y = df['class']  # Kelas target\n",
    "\n",
    "# Lakukan one-hot encoding untuk data kategorikal\n",
    "X = pd.get_dummies(X)\n",
    "\n",
    "# Pisahkan data menjadi data pelatihan dan data uji\n",
    "X_train, X_test, y_train, y_test = train_test_split(X, y, test_size=0.2, random_state=42)\n",
    "\n",
    "# Pembuatan Model Decision Tree\n",
    "dt = DecisionTreeClassifier()  # Gunakan hyperparameter default\n",
    "\n",
    "# Pelatihan Model\n",
    "dt.fit(X_train, y_train)\n",
    "\n",
    "# Evaluasi Model\n",
    "y_pred = dt.predict(X_test)\n",
    "\n",
    "# Mengukur akurasi\n",
    "acc_dt = accuracy_score(y_test, y_pred)\n",
    "print(\"Test set accuracy: {:.2f}\".format(acc_dt))\n",
    "\n",
    "# Menampilkan laporan klasifikasi\n",
    "print(\"Classification Report:\")\n",
    "print(classification_report(y_test, y_pred))"
   ]
  },
  {
   "cell_type": "markdown",
   "metadata": {},
   "source": [
    "### <b> Algoritma RandomForest"
   ]
  },
  {
   "cell_type": "markdown",
   "metadata": {},
   "source": [
    "#### <b> Parameter n_estimators kecil"
   ]
  },
  {
   "cell_type": "code",
   "execution_count": 9,
   "metadata": {},
   "outputs": [
    {
     "name": "stdout",
     "output_type": "stream",
     "text": [
      "Test set accuracy: 0.98\n",
      "Classification Report:\n",
      "              precision    recall  f1-score   support\n",
      "\n",
      "           e       0.99      0.98      0.98       843\n",
      "           p       0.98      0.99      0.98       782\n",
      "\n",
      "    accuracy                           0.98      1625\n",
      "   macro avg       0.98      0.98      0.98      1625\n",
      "weighted avg       0.98      0.98      0.98      1625\n",
      "\n"
     ]
    }
   ],
   "source": [
    "# Pembuatan Model RandomForest dengan Hyperparameter Manual\n",
    "# Penyetelan manual dilakukan dengan mengatur hyperparameter yang dianggap optimal\n",
    "rf = RandomForestClassifier(n_estimators=1, max_depth=10)\n",
    "\n",
    "# Pelatihan Model\n",
    "rf.fit(X_train, y_train)\n",
    "\n",
    "# Evaluasi Model\n",
    "y_pred = rf.predict(X_test)\n",
    "\n",
    "# Mengukur akurasi\n",
    "acc_rf = accuracy_score(y_test, y_pred)\n",
    "print(\"Test set accuracy: {:.2f}\".format(acc_rf))\n",
    "\n",
    "# Menampilkan laporan klasifikasi\n",
    "print(\"Classification Report:\")\n",
    "print(classification_report(y_test, y_pred))"
   ]
  },
  {
   "cell_type": "markdown",
   "metadata": {},
   "source": [
    "#### <b> Parameter max_depth kecil"
   ]
  },
  {
   "cell_type": "code",
   "execution_count": 10,
   "metadata": {},
   "outputs": [
    {
     "name": "stdout",
     "output_type": "stream",
     "text": [
      "Test set accuracy: 0.89\n",
      "Classification Report:\n",
      "              precision    recall  f1-score   support\n",
      "\n",
      "           e       0.83      0.98      0.90       843\n",
      "           p       0.98      0.78      0.87       782\n",
      "\n",
      "    accuracy                           0.89      1625\n",
      "   macro avg       0.90      0.88      0.88      1625\n",
      "weighted avg       0.90      0.89      0.88      1625\n",
      "\n"
     ]
    }
   ],
   "source": [
    "# Pembuatan Model RandomForest dengan Hyperparameter Manual\n",
    "# Penyetelan manual dilakukan dengan mengatur hyperparameter yang dianggap optimal\n",
    "rf = RandomForestClassifier(n_estimators=100, max_depth=1)\n",
    "\n",
    "# Pelatihan Model\n",
    "rf.fit(X_train, y_train)\n",
    "\n",
    "# Evaluasi Model\n",
    "y_pred = rf.predict(X_test)\n",
    "\n",
    "# Mengukur akurasi\n",
    "acc_rf = accuracy_score(y_test, y_pred)\n",
    "print(\"Test set accuracy: {:.2f}\".format(acc_rf))\n",
    "\n",
    "# Menampilkan laporan klasifikasi\n",
    "print(\"Classification Report:\")\n",
    "print(classification_report(y_test, y_pred))"
   ]
  },
  {
   "cell_type": "markdown",
   "metadata": {},
   "source": [
    "#### <b> Parameter n_estimators dan max_depth diperbesar nilainya"
   ]
  },
  {
   "cell_type": "code",
   "execution_count": 6,
   "metadata": {},
   "outputs": [
    {
     "name": "stdout",
     "output_type": "stream",
     "text": [
      "Test set accuracy: 1.00\n",
      "Classification Report:\n",
      "              precision    recall  f1-score   support\n",
      "\n",
      "           e       1.00      1.00      1.00       843\n",
      "           p       1.00      1.00      1.00       782\n",
      "\n",
      "    accuracy                           1.00      1625\n",
      "   macro avg       1.00      1.00      1.00      1625\n",
      "weighted avg       1.00      1.00      1.00      1625\n",
      "\n"
     ]
    }
   ],
   "source": [
    "# Pembuatan Model RandomForest dengan Hyperparameter Manual\n",
    "# Penyetelan manual dilakukan dengan mengatur hyperparameter yang dianggap optimal\n",
    "rf = RandomForestClassifier(n_estimators=100, max_depth=10)\n",
    "\n",
    "# Pelatihan Model\n",
    "rf.fit(X_train, y_train)\n",
    "\n",
    "# Evaluasi Model\n",
    "y_pred = rf.predict(X_test)\n",
    "\n",
    "# Mengukur akurasi\n",
    "acc_rf = accuracy_score(y_test, y_pred)\n",
    "print(\"Test set accuracy: {:.2f}\".format(acc_rf))\n",
    "\n",
    "# Menampilkan laporan klasifikasi\n",
    "print(\"Classification Report:\")\n",
    "print(classification_report(y_test, y_pred))"
   ]
  },
  {
   "cell_type": "markdown",
   "metadata": {},
   "source": [
    "#### <b>Keterangan</b>\n",
    "Peningkatan akurasi berbanding lurus dengan jumlah pohon dan kedalaman maksimum suatu pohon. Setiap pohon memiliki bias tertentu, tetapi dengan penggabungan hasil dari banyak pohon, varians dapat dikurangi dan kinerja model dapat meningkat secara keseluruhan. Selanjutnya, semakin tinggi kedalaman maksimum dari pohon maka model dapat mempelajari pola yang lebih rumit pada data. Namun, kenaikan tak terbatas dalam n_estimators atau max_depth juga dapat meningkatkan kompleksitas model, sehingga dapat terjadi overfitting maupun waktu komputasi yang lebih lama. "
   ]
  },
  {
   "cell_type": "markdown",
   "metadata": {},
   "source": [
    "## Tugas 2\n",
    "Terdapat dataset mushroom. Berdasarkan dataset tersebut, bandingkan peforma antara algoritma Decision Tree dan AdaBoost. Gunakan tunning hyperparameter untuk mendapatkan parameter dan akurasi yang terbaik."
   ]
  },
  {
   "cell_type": "markdown",
   "metadata": {},
   "source": [
    "### <b> Algoritma Decision Tree"
   ]
  },
  {
   "cell_type": "code",
   "execution_count": 12,
   "metadata": {},
   "outputs": [
    {
     "name": "stdout",
     "output_type": "stream",
     "text": [
      "Test set accuracy: 1.00\n",
      "Classification Report:\n",
      "              precision    recall  f1-score   support\n",
      "\n",
      "           e       1.00      1.00      1.00       843\n",
      "           p       1.00      1.00      1.00       782\n",
      "\n",
      "    accuracy                           1.00      1625\n",
      "   macro avg       1.00      1.00      1.00      1625\n",
      "weighted avg       1.00      1.00      1.00      1625\n",
      "\n"
     ]
    }
   ],
   "source": [
    "# Pra-pemrosesan Data\n",
    "X = df.drop('class', axis=1)  # Fitur\n",
    "y = df['class']  # Kelas target\n",
    "\n",
    "# Lakukan one-hot encoding untuk data kategorikal\n",
    "X = pd.get_dummies(X)\n",
    "\n",
    "# Pisahkan data menjadi data pelatihan dan data uji\n",
    "X_train, X_test, y_train, y_test = train_test_split(X, y, test_size=0.2, random_state=42)\n",
    "\n",
    "# Pembuatan Model Decision Tree\n",
    "dt = DecisionTreeClassifier()  # Gunakan hyperparameter default\n",
    "\n",
    "# Pelatihan Model\n",
    "dt.fit(X_train, y_train)\n",
    "\n",
    "# Evaluasi Model\n",
    "y_pred = dt.predict(X_test)\n",
    "\n",
    "# Mengukur akurasi\n",
    "acc_dt = accuracy_score(y_test, y_pred)\n",
    "print(\"Test set accuracy: {:.2f}\".format(acc_dt))\n",
    "\n",
    "# Menampilkan laporan klasifikasi\n",
    "print(\"Classification Report:\")\n",
    "print(classification_report(y_test, y_pred))"
   ]
  },
  {
   "cell_type": "markdown",
   "metadata": {},
   "source": [
    "### <b> Algoritma AdaBoost"
   ]
  },
  {
   "cell_type": "markdown",
   "metadata": {},
   "source": [
    "#### <b> Parameter n_estimators sejumlah 5"
   ]
  },
  {
   "cell_type": "code",
   "execution_count": 16,
   "metadata": {},
   "outputs": [
    {
     "name": "stdout",
     "output_type": "stream",
     "text": [
      "Test set accuracy: 0.95\n",
      "Classification Report:\n",
      "              precision    recall  f1-score   support\n",
      "\n",
      "           e       0.92      0.98      0.95       843\n",
      "           p       0.98      0.91      0.94       782\n",
      "\n",
      "    accuracy                           0.95      1625\n",
      "   macro avg       0.95      0.95      0.95      1625\n",
      "weighted avg       0.95      0.95      0.95      1625\n",
      "\n"
     ]
    }
   ],
   "source": [
    "# Pembuatan Model AdaBoost dengan Hyperparameter Manual\n",
    "# Penyetelan manual dilakukan dengan mengatur hyperparameter yang dianggap optimal\n",
    "estimator = DecisionTreeClassifier(max_depth=1)  # Pohon keputusan dengan kedalaman 1\n",
    "n_estimators = 5  # Jumlah estimator (jumlah iterasi)\n",
    "\n",
    "# Buat model AdaBoost\n",
    "adaboost = AdaBoostClassifier(estimator=estimator, n_estimators=n_estimators, random_state=42)\n",
    "\n",
    "# Pelatihan Model\n",
    "adaboost.fit(X_train, y_train)\n",
    "\n",
    "# Evaluasi Model\n",
    "y_pred = adaboost.predict(X_test)\n",
    "\n",
    "# Mengukur akurasi\n",
    "acc_adaboost = accuracy_score(y_test, y_pred)\n",
    "print(\"Test set accuracy: {:.2f}\".format(acc_adaboost))\n",
    "\n",
    "# Menampilkan laporan klasifikasi\n",
    "print(\"Classification Report:\")\n",
    "print(classification_report(y_test, y_pred))"
   ]
  },
  {
   "cell_type": "markdown",
   "metadata": {},
   "source": [
    "#### <b> Parameter n_estimators sejumlah 50"
   ]
  },
  {
   "cell_type": "code",
   "execution_count": 14,
   "metadata": {},
   "outputs": [
    {
     "name": "stdout",
     "output_type": "stream",
     "text": [
      "Test set accuracy: 1.00\n",
      "Classification Report:\n",
      "              precision    recall  f1-score   support\n",
      "\n",
      "           e       1.00      1.00      1.00       843\n",
      "           p       1.00      1.00      1.00       782\n",
      "\n",
      "    accuracy                           1.00      1625\n",
      "   macro avg       1.00      1.00      1.00      1625\n",
      "weighted avg       1.00      1.00      1.00      1625\n",
      "\n"
     ]
    }
   ],
   "source": [
    "# Pembuatan Model AdaBoost dengan Hyperparameter Manual\n",
    "# Penyetelan manual dilakukan dengan mengatur hyperparameter yang dianggap optimal\n",
    "estimator = DecisionTreeClassifier(max_depth=1)  # Pohon keputusan dengan kedalaman 1\n",
    "n_estimators = 50  # Jumlah estimator (jumlah iterasi)\n",
    "\n",
    "# Buat model AdaBoost\n",
    "adaboost = AdaBoostClassifier(estimator=estimator, n_estimators=n_estimators, random_state=42)\n",
    "\n",
    "# Pelatihan Model\n",
    "adaboost.fit(X_train, y_train)\n",
    "\n",
    "# Evaluasi Model\n",
    "y_pred = adaboost.predict(X_test)\n",
    "\n",
    "# Mengukur akurasi\n",
    "acc_adaboost = accuracy_score(y_test, y_pred)\n",
    "print(\"Test set accuracy: {:.2f}\".format(acc_adaboost))\n",
    "\n",
    "# Menampilkan laporan klasifikasi\n",
    "print(\"Classification Report:\")\n",
    "print(classification_report(y_test, y_pred))"
   ]
  },
  {
   "cell_type": "markdown",
   "metadata": {},
   "source": [
    "#### <b>Keterangan</b>\n",
    "Pada algoritma Adaboost, peningkatan jumlah n_estimators (jumlah estimator) dapat meningkatkan akurasi model karena setiap estimator (pohon keputusan) yang dihasilkan memperbaiki kesalahan yang dilakukan oleh estimator sebelumnya. Dengan kata lain, estimator berikutnya akan mengoreksi prediksi yang salah yang dilakukan oleh estimator sebelumnya."
   ]
  },
  {
   "cell_type": "markdown",
   "metadata": {},
   "source": [
    "## Tugas 3\n",
    "Dengan menggunakan dataset diabetes, buatlah ensemble voting dengan algoritma\n",
    "1. Logistic Regression\n",
    "2. SVM kernel polynomial\n",
    "3. Decission Tree\n",
    "Anda boleh melakukan eksplorasi dengan melakukan tunning hyperparameter"
   ]
  },
  {
   "cell_type": "markdown",
   "metadata": {},
   "source": [
    "### Import Library"
   ]
  },
  {
   "cell_type": "code",
   "execution_count": 17,
   "metadata": {},
   "outputs": [],
   "source": [
    "from sklearn.linear_model import LogisticRegression\n",
    "from sklearn.svm import SVC\n",
    "from sklearn.tree import DecisionTreeClassifier"
   ]
  },
  {
   "cell_type": "markdown",
   "metadata": {},
   "source": [
    "### Persiapan Data"
   ]
  },
  {
   "cell_type": "code",
   "execution_count": 18,
   "metadata": {},
   "outputs": [
    {
     "data": {
      "text/html": [
       "<div>\n",
       "<style scoped>\n",
       "    .dataframe tbody tr th:only-of-type {\n",
       "        vertical-align: middle;\n",
       "    }\n",
       "\n",
       "    .dataframe tbody tr th {\n",
       "        vertical-align: top;\n",
       "    }\n",
       "\n",
       "    .dataframe thead th {\n",
       "        text-align: right;\n",
       "    }\n",
       "</style>\n",
       "<table border=\"1\" class=\"dataframe\">\n",
       "  <thead>\n",
       "    <tr style=\"text-align: right;\">\n",
       "      <th></th>\n",
       "      <th>Pregnancies</th>\n",
       "      <th>Glucose</th>\n",
       "      <th>BloodPressure</th>\n",
       "      <th>SkinThickness</th>\n",
       "      <th>Insulin</th>\n",
       "      <th>BMI</th>\n",
       "      <th>DiabetesPedigreeFunction</th>\n",
       "      <th>Age</th>\n",
       "      <th>Outcome</th>\n",
       "    </tr>\n",
       "  </thead>\n",
       "  <tbody>\n",
       "    <tr>\n",
       "      <th>0</th>\n",
       "      <td>6</td>\n",
       "      <td>148</td>\n",
       "      <td>72</td>\n",
       "      <td>35</td>\n",
       "      <td>0</td>\n",
       "      <td>33.6</td>\n",
       "      <td>0.627</td>\n",
       "      <td>50</td>\n",
       "      <td>1</td>\n",
       "    </tr>\n",
       "    <tr>\n",
       "      <th>1</th>\n",
       "      <td>1</td>\n",
       "      <td>85</td>\n",
       "      <td>66</td>\n",
       "      <td>29</td>\n",
       "      <td>0</td>\n",
       "      <td>26.6</td>\n",
       "      <td>0.351</td>\n",
       "      <td>31</td>\n",
       "      <td>0</td>\n",
       "    </tr>\n",
       "    <tr>\n",
       "      <th>2</th>\n",
       "      <td>8</td>\n",
       "      <td>183</td>\n",
       "      <td>64</td>\n",
       "      <td>0</td>\n",
       "      <td>0</td>\n",
       "      <td>23.3</td>\n",
       "      <td>0.672</td>\n",
       "      <td>32</td>\n",
       "      <td>1</td>\n",
       "    </tr>\n",
       "    <tr>\n",
       "      <th>3</th>\n",
       "      <td>1</td>\n",
       "      <td>89</td>\n",
       "      <td>66</td>\n",
       "      <td>23</td>\n",
       "      <td>94</td>\n",
       "      <td>28.1</td>\n",
       "      <td>0.167</td>\n",
       "      <td>21</td>\n",
       "      <td>0</td>\n",
       "    </tr>\n",
       "    <tr>\n",
       "      <th>4</th>\n",
       "      <td>0</td>\n",
       "      <td>137</td>\n",
       "      <td>40</td>\n",
       "      <td>35</td>\n",
       "      <td>168</td>\n",
       "      <td>43.1</td>\n",
       "      <td>2.288</td>\n",
       "      <td>33</td>\n",
       "      <td>1</td>\n",
       "    </tr>\n",
       "  </tbody>\n",
       "</table>\n",
       "</div>"
      ],
      "text/plain": [
       "   Pregnancies  Glucose  BloodPressure  SkinThickness  Insulin   BMI  \\\n",
       "0            6      148             72             35        0  33.6   \n",
       "1            1       85             66             29        0  26.6   \n",
       "2            8      183             64              0        0  23.3   \n",
       "3            1       89             66             23       94  28.1   \n",
       "4            0      137             40             35      168  43.1   \n",
       "\n",
       "   DiabetesPedigreeFunction  Age  Outcome  \n",
       "0                     0.627   50        1  \n",
       "1                     0.351   31        0  \n",
       "2                     0.672   32        1  \n",
       "3                     0.167   21        0  \n",
       "4                     2.288   33        1  "
      ]
     },
     "execution_count": 18,
     "metadata": {},
     "output_type": "execute_result"
    }
   ],
   "source": [
    "\n",
    "# Load Data\n",
    "dbt = pd.read_csv('../data/diabetes.csv')\n",
    "dbt.head()"
   ]
  },
  {
   "cell_type": "code",
   "execution_count": 19,
   "metadata": {},
   "outputs": [
    {
     "data": {
      "text/plain": [
       "Index(['Pregnancies', 'Glucose', 'BloodPressure', 'SkinThickness', 'Insulin',\n",
       "       'BMI', 'DiabetesPedigreeFunction', 'Age', 'Outcome'],\n",
       "      dtype='object')"
      ]
     },
     "execution_count": 19,
     "metadata": {},
     "output_type": "execute_result"
    }
   ],
   "source": [
    "# Cek nama kolom\n",
    "dbt.columns"
   ]
  },
  {
   "cell_type": "code",
   "execution_count": 20,
   "metadata": {},
   "outputs": [
    {
     "data": {
      "text/plain": [
       "Pregnancies                 0\n",
       "Glucose                     0\n",
       "BloodPressure               0\n",
       "SkinThickness               0\n",
       "Insulin                     0\n",
       "BMI                         0\n",
       "DiabetesPedigreeFunction    0\n",
       "Age                         0\n",
       "Outcome                     0\n",
       "dtype: int64"
      ]
     },
     "execution_count": 20,
     "metadata": {},
     "output_type": "execute_result"
    }
   ],
   "source": [
    "# Cek kolom null\n",
    "dbt.isnull().sum()"
   ]
  },
  {
   "cell_type": "code",
   "execution_count": 66,
   "metadata": {},
   "outputs": [],
   "source": [
    "# Pisahkan fitur (X) dan kelas target (y)\n",
    "X = dbt.drop('Outcome', axis=1)\n",
    "y = dbt['Outcome']\n",
    "\n",
    "# Pisahkan data menjadi data pelatihan dan data uji\n",
    "X_train, X_test, y_train, y_test = train_test_split(X, y, test_size=0.2, random_state=42)\n"
   ]
  },
  {
   "cell_type": "markdown",
   "metadata": {},
   "source": [
    "### <b> Algoritma Logistic Regression"
   ]
  },
  {
   "cell_type": "markdown",
   "metadata": {},
   "source": [
    "#### <b> Parameter C rendah"
   ]
  },
  {
   "cell_type": "code",
   "execution_count": 56,
   "metadata": {},
   "outputs": [
    {
     "name": "stdout",
     "output_type": "stream",
     "text": [
      "Test set accuracy: 0.76\n"
     ]
    }
   ],
   "source": [
    "# Inisialisasi model Logistic Regression dengan hyperparameter tertentu\n",
    "# Contoh hyperparameter: C (kebalikan dari kekuatan regularisasi)\n",
    "logreg = LogisticRegression(C=0.0001, max_iter=1000, random_state=42)\n",
    "\n",
    "# Latih model dengan data pelatihan\n",
    "logreg.fit(X_train, y_train)\n",
    "\n",
    "# Lakukan prediksi\n",
    "y_pred = logreg.predict(X_test)\n",
    "\n",
    "# Hitung akurasi\n",
    "acc_logreg = accuracy_score(y_test, y_pred)\n",
    "print(\"Test set accuracy: {:.2f}\".format(acc_logreg))"
   ]
  },
  {
   "cell_type": "markdown",
   "metadata": {},
   "source": [
    "#### <b> Parameter C tinggi"
   ]
  },
  {
   "cell_type": "code",
   "execution_count": 50,
   "metadata": {},
   "outputs": [
    {
     "name": "stdout",
     "output_type": "stream",
     "text": [
      "Test set accuracy: 0.75\n"
     ]
    }
   ],
   "source": [
    "# Inisialisasi model Logistic Regression dengan hyperparameter tertentu\n",
    "# Contoh hyperparameter: C (kebalikan dari kekuatan regularisasi)\n",
    "logreg = LogisticRegression(C=1.0, max_iter=1000, random_state=42)\n",
    "\n",
    "# Latih model dengan data pelatihan\n",
    "logreg.fit(X_train, y_train)\n",
    "\n",
    "# Lakukan prediksi\n",
    "y_pred = logreg.predict(X_test)\n",
    "\n",
    "# Hitung akurasi\n",
    "acc_logreg = accuracy_score(y_test, y_pred)\n",
    "print(\"Test set accuracy: {:.2f}\".format(acc_logreg))"
   ]
  },
  {
   "cell_type": "markdown",
   "metadata": {},
   "source": [
    "#### <b>Keterangan</b>\n",
    "Dalam algoritma Logistic Regression, parameter C adalah hyperparameter yang mengontrol kekuatan regularisasi. Kekuatan regularisasi membantu mengendalikan overfitting dan meningkatkan generalisasi model. Nilai C yang ditentukan mempengaruhi seberapa ketat model akan menyesuaikan data pelatihan."
   ]
  },
  {
   "cell_type": "markdown",
   "metadata": {},
   "source": [
    "### <b> Algoritma SVM kernel polynomial"
   ]
  },
  {
   "cell_type": "markdown",
   "metadata": {},
   "source": [
    "#### <b> Parameter C rendah"
   ]
  },
  {
   "cell_type": "code",
   "execution_count": 59,
   "metadata": {},
   "outputs": [
    {
     "name": "stdout",
     "output_type": "stream",
     "text": [
      "Test set accuracy: 0.69\n"
     ]
    }
   ],
   "source": [
    "# Inisialisasi model SVM dengan kernel polinomial\n",
    "# Set hyperparameter: C (kebalikan dari kekuatan regularisasi)\n",
    "svm_poly = SVC(kernel='poly', C=0.01)\n",
    "\n",
    "# Latih model dengan data pelatihan\n",
    "svm_poly.fit(X_train, y_train)\n",
    "\n",
    "# Lakukan prediksi\n",
    "y_pred_svm_poly = svm_poly.predict(X_test)\n",
    "\n",
    "# Hitung akurasi\n",
    "acc_svm_poly = accuracy_score(y_test, y_pred_svm_poly)\n",
    "print(\"Test set accuracy: {:.2f}\".format(acc_svm_poly))"
   ]
  },
  {
   "cell_type": "markdown",
   "metadata": {},
   "source": [
    "#### <b> Parameter C tinggi"
   ]
  },
  {
   "cell_type": "code",
   "execution_count": 58,
   "metadata": {},
   "outputs": [
    {
     "name": "stdout",
     "output_type": "stream",
     "text": [
      "Test set accuracy: 0.76\n"
     ]
    }
   ],
   "source": [
    "# Inisialisasi model SVM dengan kernel polinomial\n",
    "# Set hyperparameter: C (kebalikan dari kekuatan regularisasi)\n",
    "svm_poly = SVC(kernel='poly',  C=1.0)\n",
    "\n",
    "# Latih model dengan data pelatihan\n",
    "svm_poly.fit(X_train, y_train)\n",
    "\n",
    "# Lakukan prediksi\n",
    "y_pred_svm_poly = svm_poly.predict(X_test)\n",
    "\n",
    "# Hitung akurasi\n",
    "acc_svm_poly = accuracy_score(y_test, y_pred_svm_poly)\n",
    "print(\"Test set accuracy: {:.2f}\".format(acc_svm_poly))"
   ]
  },
  {
   "cell_type": "markdown",
   "metadata": {},
   "source": [
    "#### <b>Keterangan</b>\n",
    "Nilai C mempengaruhi kompleksitas model SVM dengan kernel polinomial. Nilai C yang tinggi dapat menghasilkan model yang lebih kompleks dengan batasan keputusan yang lebih rumit.\n",
    "Nilai C yang rendah dapat menghasilkan model yang lebih sederhana dengan batasan keputusan yang lebih sederhana."
   ]
  },
  {
   "cell_type": "markdown",
   "metadata": {},
   "source": [
    "### <b> Algoritma Decission Tree"
   ]
  },
  {
   "cell_type": "markdown",
   "metadata": {},
   "source": [
    "#### <b> Parameter max_depth=1"
   ]
  },
  {
   "cell_type": "code",
   "execution_count": 63,
   "metadata": {},
   "outputs": [
    {
     "name": "stdout",
     "output_type": "stream",
     "text": [
      "Test set accuracy: 0.74\n"
     ]
    }
   ],
   "source": [
    "# Inisialisasi model Decision Tree dengan hyperparameter tertentu\n",
    "# Set hyperparameter: max_depth (kedalaman maksimum)\n",
    "dt = DecisionTreeClassifier(max_depth=1, random_state=42)\n",
    "\n",
    "# Latih model dengan data pelatihan\n",
    "dt.fit(X_train, y_train)\n",
    "\n",
    "# Lakukan prediksi\n",
    "y_pred_dt = dt.predict(X_test)\n",
    "\n",
    "# Hitung akurasi\n",
    "acc_dt = accuracy_score(y_test, y_pred_dt)\n",
    "print(\"Test set accuracy: {:.2f}\".format(acc_dt))"
   ]
  },
  {
   "cell_type": "markdown",
   "metadata": {},
   "source": [
    "#### <b> Parameter max_depth=3"
   ]
  },
  {
   "cell_type": "code",
   "execution_count": 64,
   "metadata": {},
   "outputs": [
    {
     "name": "stdout",
     "output_type": "stream",
     "text": [
      "Test set accuracy: 0.76\n"
     ]
    }
   ],
   "source": [
    "# Inisialisasi model Decision Tree dengan hyperparameter tertentu\n",
    "# Set hyperparameter: max_depth (kedalaman maksimum)\n",
    "dt = DecisionTreeClassifier(max_depth=3, random_state=42)\n",
    "\n",
    "# Latih model dengan data pelatihan\n",
    "dt.fit(X_train, y_train)\n",
    "\n",
    "# Lakukan prediksi\n",
    "y_pred_dt = dt.predict(X_test)\n",
    "\n",
    "# Hitung akurasi\n",
    "acc_dt = accuracy_score(y_test, y_pred_dt)\n",
    "print(\"Test set accuracy: {:.2f}\".format(acc_dt))"
   ]
  },
  {
   "cell_type": "markdown",
   "metadata": {},
   "source": [
    "### <b> Ensemble Voting"
   ]
  },
  {
   "cell_type": "markdown",
   "metadata": {},
   "source": [
    "#### <b> Hard Voting"
   ]
  },
  {
   "cell_type": "code",
   "execution_count": 67,
   "metadata": {},
   "outputs": [
    {
     "name": "stdout",
     "output_type": "stream",
     "text": [
      "Voting Hard\n",
      "Test set accuracy: 0.79\n",
      "Test set accuracy: 0.7857142857142857\n"
     ]
    }
   ],
   "source": [
    "from sklearn.preprocessing import StandardScaler\n",
    "\n",
    "# Inisialisasi objek untuk normalisasi\n",
    "scaler = StandardScaler()\n",
    "\n",
    "# Normalisasi data pelatihan\n",
    "X_train_std = scaler.fit_transform(X_train)\n",
    "\n",
    "# Normalisasi data uji menggunakan mean dan std dari data pelatihan\n",
    "X_test_std = scaler.transform(X_test)\n",
    "\n",
    "from sklearn.ensemble import VotingClassifier\n",
    "\n",
    "# Definisi model-model yang akan digunakan\n",
    "clf1 = LogisticRegression(random_state=42)\n",
    "clf2 = SVC(kernel='poly', probability=True, random_state=42)  # SVM kernel polynomial\n",
    "clf3 = DecisionTreeClassifier(random_state=42)\n",
    "\n",
    "# Model Ensemble dengan Hard Voting\n",
    "voting_hard = VotingClassifier(estimators=[('Logistic Regression', clf1),\n",
    "                                           ('SVM Polynomial', clf2),\n",
    "                                           ('Decision Tree', clf3)],\n",
    "                               voting='hard')\n",
    "\n",
    "# Pelatihan model ensemble\n",
    "voting_hard.fit(X_train_std, y_train)\n",
    "\n",
    "# Prediksi menggunakan model ensemble\n",
    "y_pred_voting_hard = voting_hard.predict(X_test_std)\n",
    "\n",
    "# Evaluasi akurasi model ensemble\n",
    "acc_voting_hard = accuracy_score(y_test, y_pred_voting_hard)\n",
    "\n",
    "# Print hasil evaluasi\n",
    "print('Voting Hard')\n",
    "print(\"Test set accuracy: {:.2f}\".format(acc_voting_hard))\n",
    "print(f\"Test set accuracy: {acc_voting_hard}\")"
   ]
  },
  {
   "cell_type": "markdown",
   "metadata": {},
   "source": [
    "#### <b> Soft Voting"
   ]
  },
  {
   "cell_type": "code",
   "execution_count": 69,
   "metadata": {},
   "outputs": [
    {
     "name": "stdout",
     "output_type": "stream",
     "text": [
      "Voting Soft\n",
      "Test set accuracy: 0.77\n",
      "Test set accuracy: 0.7662337662337663\n"
     ]
    }
   ],
   "source": [
    "# Model Ensemble dengan Soft Voting\n",
    "voting_soft = VotingClassifier(estimators=[('Logistic Regression', clf1),\n",
    "                                           ('SVM Polynomial', clf2),\n",
    "                                           ('Decision Tree', clf3)],\n",
    "                               voting='soft')\n",
    "\n",
    "# Pelatihan model ensemble\n",
    "voting_soft.fit(X_train_std, y_train)\n",
    "\n",
    "# Prediksi menggunakan model ensemble\n",
    "y_pred_voting_soft = voting_soft.predict(X_test_std)\n",
    "\n",
    "# Evaluasi akurasi model ensemble\n",
    "acc_voting_soft = accuracy_score(y_test, y_pred_voting_soft)\n",
    "\n",
    "# Print hasil evaluasi\n",
    "print('Voting Soft')\n",
    "print(\"Test set accuracy: {:.2f}\".format(acc_voting_soft))\n",
    "print(f\"Test set accuracy: {acc_voting_soft}\")"
   ]
  }
 ],
 "metadata": {
  "kernelspec": {
   "display_name": "base",
   "language": "python",
   "name": "python3"
  },
  "language_info": {
   "codemirror_mode": {
    "name": "ipython",
    "version": 3
   },
   "file_extension": ".py",
   "mimetype": "text/x-python",
   "name": "python",
   "nbconvert_exporter": "python",
   "pygments_lexer": "ipython3",
   "version": "3.11.4"
  },
  "orig_nbformat": 4
 },
 "nbformat": 4,
 "nbformat_minor": 2
}
