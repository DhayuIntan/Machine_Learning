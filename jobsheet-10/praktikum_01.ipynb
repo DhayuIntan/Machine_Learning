{
  "nbformat": 4,
  "nbformat_minor": 0,
  "metadata": {
    "colab": {
      "provenance": [],
      "gpuType": "T4",
      "authorship_tag": "ABX9TyPMUkrGhxxjTgMBpEikhyNl",
      "include_colab_link": true
    },
    "kernelspec": {
      "name": "python3",
      "display_name": "Python 3"
    },
    "language_info": {
      "name": "python"
    },
    "accelerator": "GPU"
  },
  "cells": [
    {
      "cell_type": "markdown",
      "metadata": {
        "id": "view-in-github",
        "colab_type": "text"
      },
      "source": [
        "<a href=\"https://colab.research.google.com/github/DhayuIntan/Machine_Learning/blob/main/jobsheet-10/praktikum_01.ipynb\" target=\"_parent\"><img src=\"https://colab.research.google.com/assets/colab-badge.svg\" alt=\"Open In Colab\"/></a>"
      ]
    },
    {
      "cell_type": "markdown",
      "source": [
        "# **Praktikum 1**\n",
        "## RNN untuk Analisis Sentimen"
      ],
      "metadata": {
        "id": "T6Kj-OwYgA7x"
      }
    },
    {
      "cell_type": "markdown",
      "source": [
        "### **Setup**\n",
        "\n",
        "Impor matplotlib dan buat fungsi pembantu untuk memplot grafik:"
      ],
      "metadata": {
        "id": "ITTF6z13gIlD"
      }
    },
    {
      "cell_type": "code",
      "execution_count": 2,
      "metadata": {
        "id": "6d5lvLC-fgJl"
      },
      "outputs": [],
      "source": [
        "import numpy as np\n",
        "import tensorflow_datasets as tfds\n",
        "import tensorflow as tf\n",
        "\n",
        "tfds.disable_progress_bar()"
      ]
    },
    {
      "cell_type": "code",
      "source": [
        "import matplotlib.pyplot as plt\n",
        "\n",
        "def plot_graphs(history, metric):\n",
        "    plt.plot(history.history[metric])\n",
        "    plt.plot(history.history['val_' + metric], '')\n",
        "    plt.xlabel(\"Epochs\")\n",
        "    plt.ylabel(metric)\n",
        "    plt.legend([metric, 'val_' + metric])"
      ],
      "metadata": {
        "id": "SYymjkXjgXrv"
      },
      "execution_count": 3,
      "outputs": []
    },
    {
      "cell_type": "markdown",
      "source": [
        "### **Setup input pipeline**\n",
        "Dataset ulasan film IMDB adalah kumpulan data klasifikasi biner—semua ulasan memiliki sentimen positif atau negatif.\n",
        "\n",
        "Download dataset menggunakan TFDS."
      ],
      "metadata": {
        "id": "fU6NhUdHgt7P"
      }
    },
    {
      "cell_type": "code",
      "source": [
        "dataset, info = tfds.load('imdb_reviews', with_info=True,\n",
        "                          as_supervised=True)\n",
        "train_dataset, test_dataset = dataset['train'], dataset['test']\n",
        "\n",
        "train_dataset.element_spec"
      ],
      "metadata": {
        "colab": {
          "base_uri": "https://localhost:8080/"
        },
        "id": "J33kY684hGqU",
        "outputId": "af57f057-77a2-4a26-e51a-def227a4f9e6"
      },
      "execution_count": 4,
      "outputs": [
        {
          "output_type": "stream",
          "name": "stdout",
          "text": [
            "Downloading and preparing dataset 80.23 MiB (download: 80.23 MiB, generated: Unknown size, total: 80.23 MiB) to /root/tensorflow_datasets/imdb_reviews/plain_text/1.0.0...\n",
            "Dataset imdb_reviews downloaded and prepared to /root/tensorflow_datasets/imdb_reviews/plain_text/1.0.0. Subsequent calls will reuse this data.\n"
          ]
        },
        {
          "output_type": "execute_result",
          "data": {
            "text/plain": [
              "(TensorSpec(shape=(), dtype=tf.string, name=None),\n",
              " TensorSpec(shape=(), dtype=tf.int64, name=None))"
            ]
          },
          "metadata": {},
          "execution_count": 4
        }
      ]
    },
    {
      "cell_type": "markdown",
      "source": [
        "Awalnya ini mengembalikan dataset (teks, pasangan label):"
      ],
      "metadata": {
        "id": "AUSkNenphRz5"
      }
    },
    {
      "cell_type": "code",
      "source": [
        "for example, label in train_dataset.take(1):\n",
        "  print('text: ', example.numpy())\n",
        "  print('label: ', label.numpy())"
      ],
      "metadata": {
        "colab": {
          "base_uri": "https://localhost:8080/"
        },
        "id": "FciE1-xZhSke",
        "outputId": "86e5bcc7-8e3f-412a-f62b-b7b193e7c8c7"
      },
      "execution_count": 5,
      "outputs": [
        {
          "output_type": "stream",
          "name": "stdout",
          "text": [
            "text:  b\"This was an absolutely terrible movie. Don't be lured in by Christopher Walken or Michael Ironside. Both are great actors, but this must simply be their worst role in history. Even their great acting could not redeem this movie's ridiculous storyline. This movie is an early nineties US propaganda piece. The most pathetic scenes were those when the Columbian rebels were making their cases for revolutions. Maria Conchita Alonso appeared phony, and her pseudo-love affair with Walken was nothing but a pathetic emotional plug in a movie that was devoid of any real meaning. I am disappointed that there are movies like this, ruining actor's like Christopher Walken's good name. I could barely sit through it.\"\n",
            "label:  0\n"
          ]
        }
      ]
    },
    {
      "cell_type": "markdown",
      "source": [
        "Berikutnya acak data untuk pelatihan dan membuat kumpulan pasangan (teks, label) ini:"
      ],
      "metadata": {
        "id": "i1eGcMZVhVS5"
      }
    },
    {
      "cell_type": "code",
      "source": [
        "BUFFER_SIZE = 10000\n",
        "BATCH_SIZE = 64\n",
        "\n",
        "train_dataset = train_dataset.shuffle(BUFFER_SIZE).batch(BATCH_SIZE).prefetch(tf.data.AUTOTUNE)\n",
        "test_dataset = test_dataset.batch(BATCH_SIZE).prefetch(tf.data.AUTOTUNE)\n",
        "\n",
        "for example, label in train_dataset.take(1):\n",
        "  print('texts: ', example.numpy()[:3])\n",
        "  print()\n",
        "  print('labels: ', label.numpy()[:3])"
      ],
      "metadata": {
        "colab": {
          "base_uri": "https://localhost:8080/"
        },
        "id": "DB-FzjyRhZUj",
        "outputId": "c0786ccb-b5e1-41a5-b995-e5d2b1eea2fb"
      },
      "execution_count": 6,
      "outputs": [
        {
          "output_type": "stream",
          "name": "stdout",
          "text": [
            "texts:  [b'I actually quite enjoyed this show. Even as a youngster I was interested in all sports and that included horse racing. It was always going to be difficult to make a series based on racing corruption and at the same time get permission from the race tracks to record filming about this controversial subject. One episode I particularly remember centred around a horse expected to win a big race that looked a bit off colour. A syringe was found on the stable floor and everyone thought it had been drugged but nothing showed up in the blood tests. All too late they realised the horse hadnt been doped but had had its knee cartilage removed. Like running a car with no oil and the engine seizing up, the horse broke down with tragic consequences.'\n",
            " b'THE JIST: See something else.<br /><br />This film was highly rated by Gene Siskel, but after watching it I can\\'t figure out why. The film is definitely original and different. It even has interesting dialogue at times, some cool moments, and a creepy \"noir\" feel. But it just isn\\'t entertaining. It also doesn\\'t make a whole lot of sense, in plot but especially in character motivations. I don\\'t know anyone that behaves like these characters do.<br /><br />This is a difficult movie to take on -- I suggest you don\\'t accept the challenge.'\n",
            " b'Terminus Paradis was exceptional, but \"Niki ardelean\" comes too late. We already have enough of this and we want something new.<br /><br />Big directors should have no problems seeing beyond their time, not behind. Why people see Romania only as a postrevolutionary country?<br /><br />We are just born not reincarnated, and nobody gives a s**t anymore about old times. Most people dont remember or dont want to remember, and the new generation of movie consumers dont understand a bit. This should be the first day of romanian movie not the final song - priveghi! Maybe younger directors should make the move.']\n",
            "\n",
            "labels:  [1 1 0]\n"
          ]
        }
      ]
    },
    {
      "cell_type": "markdown",
      "source": [
        "### **Buat Teks Encoder**\n",
        "Teks mentah yang dimuat oleh tfds perlu diproses sebelum dapat digunakan dalam model. Cara termudah memproses teks untuk pelatihan adalah menggunakan lapisan TextVectorization. Lapisan ini memiliki banyak kemampuan, namun pada tutorial ini menggunakan perilaku default. Buat lapisan tersebut, dan teruskan teks kumpulan data ke metode .adapt lapisan:"
      ],
      "metadata": {
        "id": "BRvrGKO7hkiV"
      }
    },
    {
      "cell_type": "code",
      "source": [
        "VOCAB_SIZE = 1000\n",
        "encoder = tf.keras.layers.TextVectorization(\n",
        "    max_tokens=VOCAB_SIZE)\n",
        "encoder.adapt(train_dataset.map(lambda text, label: text))"
      ],
      "metadata": {
        "id": "yutNY98GhxIA"
      },
      "execution_count": 7,
      "outputs": []
    },
    {
      "cell_type": "markdown",
      "source": [
        "Metode .adapt mengatur kosakata lapisan. 20 token pertama dapat dilihat dengan kode berikut. Setelah padding dan token yang tidak diketahui, mereka diurutkan berdasarkan frekuensi:"
      ],
      "metadata": {
        "id": "Zn_SVNkEh22q"
      }
    },
    {
      "cell_type": "code",
      "source": [
        "vocab = np.array(encoder.get_vocabulary())\n",
        "vocab[:20]"
      ],
      "metadata": {
        "colab": {
          "base_uri": "https://localhost:8080/"
        },
        "id": "kD27W2agh3ke",
        "outputId": "66491c06-795e-41f4-91fd-ea20c9c6bfdb"
      },
      "execution_count": 8,
      "outputs": [
        {
          "output_type": "execute_result",
          "data": {
            "text/plain": [
              "array(['', '[UNK]', 'the', 'and', 'a', 'of', 'to', 'is', 'in', 'it', 'i',\n",
              "       'this', 'that', 'br', 'was', 'as', 'for', 'with', 'movie', 'but'],\n",
              "      dtype='<U14')"
            ]
          },
          "metadata": {},
          "execution_count": 8
        }
      ]
    },
    {
      "cell_type": "markdown",
      "source": [
        "Setelah kosakata diatur, lapisan dapat mengkodekan teks ke dalam indeks. Tensor indeks diberi bantalan 0 ke urutan terpanjang dalam batch (kecuali jika Anda menetapkan output_sequence_length tetap):\n"
      ],
      "metadata": {
        "id": "oN2qsBLfiJCr"
      }
    },
    {
      "cell_type": "code",
      "source": [
        "encoded_example = encoder(example)[:3].numpy()\n",
        "encoded_example"
      ],
      "metadata": {
        "colab": {
          "base_uri": "https://localhost:8080/"
        },
        "id": "NCZ_tlTEiMTB",
        "outputId": "eb63086c-9925-4c22-de74-b3b04fb76521"
      },
      "execution_count": 9,
      "outputs": [
        {
          "output_type": "execute_result",
          "data": {
            "text/plain": [
              "array([[ 10, 157, 176, ...,   0,   0,   0],\n",
              "       [  2,   1,  68, ...,   0,   0,   0],\n",
              "       [  1,   1,  14, ...,   0,   0,   0]])"
            ]
          },
          "metadata": {},
          "execution_count": 9
        }
      ]
    },
    {
      "cell_type": "markdown",
      "source": [
        "Dengan pengaturan default, prosesnya tidak dapat dibalik sepenuhnya. Ada dua alasan utama untuk itu:\n",
        "\n",
        "\n",
        "*   Nilai default untuk argumen standarisasi preprocessing.TextVectorization adalah \"lower_and_strip_punctuation\".\n",
        "*   Ukuran kosa kata yang terbatas dan kurangnya fallback berbasis karakter menghasilkan beberapa token yang tidak diketahui."
      ],
      "metadata": {
        "id": "KkyloS3Qio6Z"
      }
    },
    {
      "cell_type": "code",
      "source": [
        "for n in range(3):\n",
        "  print(\"Original: \", example[n].numpy())\n",
        "  print(\"Round-trip: \", \" \".join(vocab[encoded_example[n]]))\n",
        "  print()"
      ],
      "metadata": {
        "colab": {
          "base_uri": "https://localhost:8080/"
        },
        "id": "99se0dpnizbp",
        "outputId": "89c9e58b-d4c4-4f29-8a56-8fca6aaa9128"
      },
      "execution_count": 10,
      "outputs": [
        {
          "output_type": "stream",
          "name": "stdout",
          "text": [
            "Original:  b'I actually quite enjoyed this show. Even as a youngster I was interested in all sports and that included horse racing. It was always going to be difficult to make a series based on racing corruption and at the same time get permission from the race tracks to record filming about this controversial subject. One episode I particularly remember centred around a horse expected to win a big race that looked a bit off colour. A syringe was found on the stable floor and everyone thought it had been drugged but nothing showed up in the blood tests. All too late they realised the horse hadnt been doped but had had its knee cartilage removed. Like running a car with no oil and the engine seizing up, the horse broke down with tragic consequences.'\n",
            "Round-trip:  i actually quite enjoyed this show even as a [UNK] i was interested in all [UNK] and that [UNK] [UNK] [UNK] it was always going to be difficult to make a series based on [UNK] [UNK] and at the same time get [UNK] from the [UNK] [UNK] to [UNK] [UNK] about this [UNK] subject one episode i particularly remember [UNK] around a [UNK] expected to [UNK] a big [UNK] that looked a bit off [UNK] a [UNK] was found on the [UNK] [UNK] and everyone thought it had been [UNK] but nothing [UNK] up in the blood [UNK] all too late they [UNK] the [UNK] [UNK] been [UNK] but had had its [UNK] [UNK] [UNK] like running a car with no [UNK] and the [UNK] [UNK] up the [UNK] [UNK] down with [UNK] [UNK]                                                                                                                                                                                                                                                                                                                                                                                                                                                                                                                                                                                                                                                                                                                                                                                                                                                                                                   \n",
            "\n",
            "Original:  b'THE JIST: See something else.<br /><br />This film was highly rated by Gene Siskel, but after watching it I can\\'t figure out why. The film is definitely original and different. It even has interesting dialogue at times, some cool moments, and a creepy \"noir\" feel. But it just isn\\'t entertaining. It also doesn\\'t make a whole lot of sense, in plot but especially in character motivations. I don\\'t know anyone that behaves like these characters do.<br /><br />This is a difficult movie to take on -- I suggest you don\\'t accept the challenge.'\n",
            "Round-trip:  the [UNK] see something [UNK] br this film was highly [UNK] by [UNK] [UNK] but after watching it i cant figure out why the film is definitely original and different it even has interesting dialogue at times some cool moments and a creepy [UNK] feel but it just isnt entertaining it also doesnt make a whole lot of sense in plot but especially in character [UNK] i dont know anyone that [UNK] like these characters [UNK] br this is a difficult movie to take on i [UNK] you dont [UNK] the [UNK]                                                                                                                                                                                                                                                                                                                                                                                                                                                                                                                                                                                                                                                                                                                                                                                                                                                                                                                                             \n",
            "\n",
            "Original:  b'Terminus Paradis was exceptional, but \"Niki ardelean\" comes too late. We already have enough of this and we want something new.<br /><br />Big directors should have no problems seeing beyond their time, not behind. Why people see Romania only as a postrevolutionary country?<br /><br />We are just born not reincarnated, and nobody gives a s**t anymore about old times. Most people dont remember or dont want to remember, and the new generation of movie consumers dont understand a bit. This should be the first day of romanian movie not the final song - priveghi! Maybe younger directors should make the move.'\n",
            "Round-trip:  [UNK] [UNK] was [UNK] but [UNK] [UNK] comes too late we already have enough of this and we want something [UNK] br big directors should have no problems seeing beyond their time not behind why people see [UNK] only as a [UNK] [UNK] br we are just [UNK] not [UNK] and [UNK] gives a [UNK] [UNK] about old times most people dont remember or dont want to remember and the new [UNK] of movie [UNK] dont understand a bit this should be the first day of [UNK] movie not the final song [UNK] maybe [UNK] directors should make the move                                                                                                                                                                                                                                                                                                                                                                                                                                                                                                                                                                                                                                                                                                                                                                                                                                                                                                                                     \n",
            "\n"
          ]
        }
      ]
    },
    {
      "cell_type": "markdown",
      "source": [
        "### **Buat Model**"
      ],
      "metadata": {
        "id": "QsFGZE6Di7X6"
      }
    },
    {
      "cell_type": "code",
      "source": [
        "model = tf.keras.Sequential([\n",
        "    encoder,\n",
        "    tf.keras.layers.Embedding(\n",
        "        input_dim=len(encoder.get_vocabulary()),\n",
        "        output_dim=64,\n",
        "        # Use masking to handle the variable sequence lengths\n",
        "        mask_zero=True),\n",
        "    tf.keras.layers.Bidirectional(tf.keras.layers.LSTM(64)),\n",
        "    tf.keras.layers.Dense(64, activation='relu'),\n",
        "    tf.keras.layers.Dense(1)\n",
        "])"
      ],
      "metadata": {
        "id": "6_HPNPA_i-hY"
      },
      "execution_count": 11,
      "outputs": []
    },
    {
      "cell_type": "markdown",
      "source": [
        "Lapisan penyematan menggunakan masking (uses masking ) untuk menangani panjang urutan yang bervariasi."
      ],
      "metadata": {
        "id": "Ye8Cng4PkHkx"
      }
    },
    {
      "cell_type": "code",
      "source": [
        "print([layer.supports_masking for layer in model.layers])"
      ],
      "metadata": {
        "colab": {
          "base_uri": "https://localhost:8080/"
        },
        "id": "RNQ6ShY0kIig",
        "outputId": "d97fc990-6efe-4755-9d7f-c0a5e1b33d65"
      },
      "execution_count": 12,
      "outputs": [
        {
          "output_type": "stream",
          "name": "stdout",
          "text": [
            "[False, True, True, True, True]\n"
          ]
        }
      ]
    },
    {
      "cell_type": "markdown",
      "source": [
        "Untuk memastikan bahwa ini berfungsi seperti yang diharapkan, evaluasi sebuah kalimat dua kali. Pertama, satu kalimat sehingga tidak ada bantalan (padding) untuk disamarkan:"
      ],
      "metadata": {
        "id": "VI9Nx8LmkZZV"
      }
    },
    {
      "cell_type": "code",
      "source": [
        "# predict on a sample text without padding.\n",
        "\n",
        "sample_text = ('The movie was cool. The animation and the graphics '\n",
        "               'were out of this world. I would recommend this movie.')\n",
        "predictions = model.predict(np.array([sample_text]))\n",
        "print(predictions[0])"
      ],
      "metadata": {
        "colab": {
          "base_uri": "https://localhost:8080/"
        },
        "id": "EuQ2P8xqkaOP",
        "outputId": "d9159dcb-c90c-49dc-c73a-e6127e835f3d"
      },
      "execution_count": 13,
      "outputs": [
        {
          "output_type": "stream",
          "name": "stdout",
          "text": [
            "1/1 [==============================] - 9s 9s/step\n",
            "[0.01040835]\n"
          ]
        }
      ]
    },
    {
      "cell_type": "markdown",
      "source": [
        "Sekarang, evaluasi lagi dalam batch dengan kalimat yang lebih panjang. Hasilnya harus sama:"
      ],
      "metadata": {
        "id": "Q4Pv2GYXkdGa"
      }
    },
    {
      "cell_type": "code",
      "source": [
        "# predict on a sample text with padding\n",
        "\n",
        "padding = \"the \" * 2000\n",
        "predictions = model.predict(np.array([sample_text, padding]))\n",
        "print(predictions[0])"
      ],
      "metadata": {
        "colab": {
          "base_uri": "https://localhost:8080/"
        },
        "id": "aFsBuaazkjl_",
        "outputId": "6abf9fb2-04d0-4bb2-a7c2-7045bdcd8947"
      },
      "execution_count": 14,
      "outputs": [
        {
          "output_type": "stream",
          "name": "stdout",
          "text": [
            "1/1 [==============================] - 0s 62ms/step\n",
            "[0.01040835]\n"
          ]
        }
      ]
    },
    {
      "cell_type": "markdown",
      "source": [
        "compile model Keras untuk mengonfigurasi proses pelatihan:"
      ],
      "metadata": {
        "id": "G3dkJRxGkq-a"
      }
    },
    {
      "cell_type": "code",
      "source": [
        "model.compile(loss=tf.keras.losses.BinaryCrossentropy(from_logits=True),\n",
        "              optimizer=tf.keras.optimizers.Adam(1e-4),\n",
        "              metrics=['accuracy'])"
      ],
      "metadata": {
        "id": "j4waMa6fkrwM"
      },
      "execution_count": 15,
      "outputs": []
    },
    {
      "cell_type": "markdown",
      "source": [
        "### **Train Model**"
      ],
      "metadata": {
        "id": "bDj6-YGzkwOG"
      }
    },
    {
      "cell_type": "code",
      "source": [
        "history = model.fit(train_dataset, epochs=10,\n",
        "                    validation_data=test_dataset,\n",
        "                    validation_steps=30)"
      ],
      "metadata": {
        "colab": {
          "base_uri": "https://localhost:8080/"
        },
        "id": "1TvjcVX3kyfQ",
        "outputId": "a174dab9-7410-4c86-fdc0-62c3f0917c3e"
      },
      "execution_count": 16,
      "outputs": [
        {
          "output_type": "stream",
          "name": "stdout",
          "text": [
            "Epoch 1/10\n",
            "391/391 [==============================] - 50s 100ms/step - loss: 0.6219 - accuracy: 0.5937 - val_loss: 0.4531 - val_accuracy: 0.7776\n",
            "Epoch 2/10\n",
            "391/391 [==============================] - 24s 61ms/step - loss: 0.3945 - accuracy: 0.8226 - val_loss: 0.3769 - val_accuracy: 0.8266\n",
            "Epoch 3/10\n",
            "391/391 [==============================] - 24s 60ms/step - loss: 0.3427 - accuracy: 0.8511 - val_loss: 0.3438 - val_accuracy: 0.8469\n",
            "Epoch 4/10\n",
            "391/391 [==============================] - 25s 63ms/step - loss: 0.3232 - accuracy: 0.8608 - val_loss: 0.3304 - val_accuracy: 0.8500\n",
            "Epoch 5/10\n",
            "391/391 [==============================] - 24s 61ms/step - loss: 0.3108 - accuracy: 0.8677 - val_loss: 0.3271 - val_accuracy: 0.8495\n",
            "Epoch 6/10\n",
            "391/391 [==============================] - 23s 59ms/step - loss: 0.3057 - accuracy: 0.8705 - val_loss: 0.3261 - val_accuracy: 0.8583\n",
            "Epoch 7/10\n",
            "391/391 [==============================] - 24s 60ms/step - loss: 0.3014 - accuracy: 0.8742 - val_loss: 0.3239 - val_accuracy: 0.8562\n",
            "Epoch 8/10\n",
            "391/391 [==============================] - 24s 60ms/step - loss: 0.3030 - accuracy: 0.8706 - val_loss: 0.3363 - val_accuracy: 0.8448\n",
            "Epoch 9/10\n",
            "391/391 [==============================] - 25s 62ms/step - loss: 0.2982 - accuracy: 0.8744 - val_loss: 0.3218 - val_accuracy: 0.8562\n",
            "Epoch 10/10\n",
            "391/391 [==============================] - 24s 61ms/step - loss: 0.2967 - accuracy: 0.8732 - val_loss: 0.3332 - val_accuracy: 0.8505\n"
          ]
        }
      ]
    },
    {
      "cell_type": "code",
      "source": [
        "test_loss, test_acc = model.evaluate(test_dataset)\n",
        "\n",
        "print('Test Loss:', test_loss)\n",
        "print('Test Accuracy:', test_acc)"
      ],
      "metadata": {
        "id": "-CDOohLFk96d",
        "colab": {
          "base_uri": "https://localhost:8080/"
        },
        "outputId": "5c0073f4-056c-4a2c-a96c-37b7f8471fbd"
      },
      "execution_count": 17,
      "outputs": [
        {
          "output_type": "stream",
          "name": "stdout",
          "text": [
            "391/391 [==============================] - 11s 29ms/step - loss: 0.3282 - accuracy: 0.8474\n",
            "Test Loss: 0.32821744680404663\n",
            "Test Accuracy: 0.8473600149154663\n"
          ]
        }
      ]
    },
    {
      "cell_type": "code",
      "source": [
        "plt.figure(figsize=(16, 8))\n",
        "plt.subplot(1, 2, 1)\n",
        "plot_graphs(history, 'accuracy')\n",
        "plt.ylim(None, 1)\n",
        "plt.subplot(1, 2, 2)\n",
        "plot_graphs(history, 'loss')\n",
        "plt.ylim(0, None)"
      ],
      "metadata": {
        "id": "B67V22malAOa",
        "colab": {
          "base_uri": "https://localhost:8080/",
          "height": 717
        },
        "outputId": "1cb38f7c-ab17-4630-c01d-869d0ee58336"
      },
      "execution_count": 18,
      "outputs": [
        {
          "output_type": "execute_result",
          "data": {
            "text/plain": [
              "(0.0, 0.6381593257188797)"
            ]
          },
          "metadata": {},
          "execution_count": 18
        },
        {
          "output_type": "display_data",
          "data": {
            "text/plain": [
              "<Figure size 1600x800 with 2 Axes>"
            ],
            "image/png": "[encoded data removed]"
          },
          "metadata": {}
        }
      ]
    },
    {
      "cell_type": "markdown",
      "source": [
        "Jalankan prediksi pada kalimat baru:"
      ],
      "metadata": {
        "id": "_meQqLHGlDGP"
      }
    },
    {
      "cell_type": "markdown",
      "source": [
        "Jika prediksi >= 0,0 berarti positif, jika tidak maka negatif."
      ],
      "metadata": {
        "id": "lSonFDpxlJpZ"
      }
    },
    {
      "cell_type": "code",
      "source": [
        "sample_text = ('The movie was cool. The animation and the graphics '\n",
        "              'were out of this world. I would recommend this movie.')\n",
        "predictions = model.predict(np.array([sample_text]))"
      ],
      "metadata": {
        "id": "Jv9K0zvAlIA2",
        "colab": {
          "base_uri": "https://localhost:8080/"
        },
        "outputId": "49bdc12a-fd86-49ae-bbd1-bbc0b60ef3f5"
      },
      "execution_count": 19,
      "outputs": [
        {
          "output_type": "stream",
          "name": "stdout",
          "text": [
            "1/1 [==============================] - 3s 3s/step\n"
          ]
        }
      ]
    },
    {
      "cell_type": "markdown",
      "source": [
        "### **Stack two or more LSTM layers**"
      ],
      "metadata": {
        "id": "jxTwotvKlZxG"
      }
    },
    {
      "cell_type": "code",
      "source": [
        "model = tf.keras.Sequential([\n",
        "    encoder,\n",
        "    tf.keras.layers.Embedding(len(encoder.get_vocabulary()), 64, mask_zero=True),\n",
        "    tf.keras.layers.Bidirectional(tf.keras.layers.LSTM(64, return_sequences=True)),\n",
        "    tf.keras.layers.Bidirectional(tf.keras.layers.LSTM(32)),\n",
        "    tf.keras.layers.Dense(64, activation='relu'),\n",
        "    tf.keras.layers.Dropout(0.5),\n",
        "    tf.keras.layers.Dense(1)\n",
        "])"
      ],
      "metadata": {
        "id": "Usz4vEiHlceO"
      },
      "execution_count": 20,
      "outputs": []
    },
    {
      "cell_type": "code",
      "source": [
        "model.compile(loss=tf.keras.losses.BinaryCrossentropy(from_logits=True),\n",
        "              optimizer=tf.keras.optimizers.Adam(1e-4),\n",
        "              metrics=['accuracy'])"
      ],
      "metadata": {
        "id": "e8nA2sDAl5P9"
      },
      "execution_count": 21,
      "outputs": []
    },
    {
      "cell_type": "code",
      "source": [
        "history = model.fit(train_dataset, epochs=10,\n",
        "                    validation_data=test_dataset,\n",
        "                    validation_steps=30)"
      ],
      "metadata": {
        "id": "-v8KB_C5mAti",
        "colab": {
          "base_uri": "https://localhost:8080/"
        },
        "outputId": "b9ae073c-164e-427c-870a-43ec4f158b14"
      },
      "execution_count": 22,
      "outputs": [
        {
          "output_type": "stream",
          "name": "stdout",
          "text": [
            "Epoch 1/10\n",
            "391/391 [==============================] - 75s 148ms/step - loss: 0.6127 - accuracy: 0.5998 - val_loss: 0.4316 - val_accuracy: 0.8089\n",
            "Epoch 2/10\n",
            "391/391 [==============================] - 43s 110ms/step - loss: 0.3836 - accuracy: 0.8344 - val_loss: 0.3511 - val_accuracy: 0.8391\n",
            "Epoch 3/10\n",
            "391/391 [==============================] - 44s 111ms/step - loss: 0.3357 - accuracy: 0.8577 - val_loss: 0.3293 - val_accuracy: 0.8568\n",
            "Epoch 4/10\n",
            "391/391 [==============================] - 43s 110ms/step - loss: 0.3194 - accuracy: 0.8648 - val_loss: 0.3388 - val_accuracy: 0.8375\n",
            "Epoch 5/10\n",
            "391/391 [==============================] - 44s 113ms/step - loss: 0.3111 - accuracy: 0.8688 - val_loss: 0.3179 - val_accuracy: 0.8573\n",
            "Epoch 6/10\n",
            "391/391 [==============================] - 45s 114ms/step - loss: 0.3059 - accuracy: 0.8706 - val_loss: 0.3309 - val_accuracy: 0.8359\n",
            "Epoch 7/10\n",
            "391/391 [==============================] - 45s 114ms/step - loss: 0.3066 - accuracy: 0.8692 - val_loss: 0.3238 - val_accuracy: 0.8474\n",
            "Epoch 8/10\n",
            "391/391 [==============================] - 43s 111ms/step - loss: 0.2991 - accuracy: 0.8744 - val_loss: 0.3222 - val_accuracy: 0.8651\n",
            "Epoch 9/10\n",
            "391/391 [==============================] - 44s 113ms/step - loss: 0.2941 - accuracy: 0.8761 - val_loss: 0.3226 - val_accuracy: 0.8672\n",
            "Epoch 10/10\n",
            "391/391 [==============================] - 44s 112ms/step - loss: 0.2960 - accuracy: 0.8748 - val_loss: 0.3350 - val_accuracy: 0.8328\n"
          ]
        }
      ]
    },
    {
      "cell_type": "code",
      "source": [
        "test_loss, test_acc = model.evaluate(test_dataset)\n",
        "\n",
        "print('Test Loss:', test_loss)\n",
        "print('Test Accuracy:', test_acc)"
      ],
      "metadata": {
        "id": "TOPy1kjzmNZX",
        "colab": {
          "base_uri": "https://localhost:8080/"
        },
        "outputId": "1d77e254-f95b-40a9-e83c-2623d5cbfca3"
      },
      "execution_count": 23,
      "outputs": [
        {
          "output_type": "stream",
          "name": "stdout",
          "text": [
            "391/391 [==============================] - 18s 47ms/step - loss: 0.3310 - accuracy: 0.8360\n",
            "Test Loss: 0.33096733689308167\n",
            "Test Accuracy: 0.8360400199890137\n"
          ]
        }
      ]
    },
    {
      "cell_type": "code",
      "source": [
        "# Predict on a sample text without padding.\n",
        "sample_text = ('The movie was not good. The animation and the graphics '\n",
        "               'were terrible. I would not recommend this movie.')\n",
        "predictions = model.predict(np.array([sample_text]))\n",
        "print(predictions)"
      ],
      "metadata": {
        "id": "O6ejw-YHmR7Z",
        "colab": {
          "base_uri": "https://localhost:8080/"
        },
        "outputId": "71c69698-7c51-4092-a20f-7a7e6fab2526"
      },
      "execution_count": 24,
      "outputs": [
        {
          "output_type": "stream",
          "name": "stdout",
          "text": [
            "1/1 [==============================] - 5s 5s/step\n",
            "[[-1.9324603]]\n"
          ]
        }
      ]
    },
    {
      "cell_type": "code",
      "source": [
        "plt.figure(figsize=(16, 6))\n",
        "plt.subplot(1, 2, 1)\n",
        "plot_graphs(history, 'accuracy')\n",
        "plt.subplot(1, 2, 2)\n",
        "plot_graphs(history, 'loss')"
      ],
      "metadata": {
        "id": "d_IHkA2BmZn2",
        "colab": {
          "base_uri": "https://localhost:8080/",
          "height": 541
        },
        "outputId": "f59396b5-c1ed-4689-cf24-900e281b696a"
      },
      "execution_count": 25,
      "outputs": [
        {
          "output_type": "display_data",
          "data": {
            "text/plain": [
              "<Figure size 1600x600 with 2 Axes>"
            ],
            "image/png": "[encoded data removed]"
          },
          "metadata": {}
        }
      ]
    }
  ]
}